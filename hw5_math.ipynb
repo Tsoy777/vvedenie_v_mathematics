{
 "cells": [
  {
   "cell_type": "raw",
   "metadata": {},
   "source": [
    "1. Напишите код, моделирующий выпадение поля в рулетке (с учетом поля зеро)."
   ]
  },
  {
   "cell_type": "code",
   "execution_count": 1,
   "metadata": {},
   "outputs": [],
   "source": [
    "import numpy as np"
   ]
  },
  {
   "cell_type": "code",
   "execution_count": 4,
   "metadata": {},
   "outputs": [
    {
     "name": "stdout",
     "output_type": "stream",
     "text": [
      "\n",
      "Выпало число: 35\n",
      "\n",
      "Выпало число: 9\n",
      "\n",
      "Выпало число: 3\n",
      "\n",
      "Выпало число: 28\n",
      "\n",
      "Выпало число: 30\n"
     ]
    }
   ],
   "source": [
    "for i in range(0,5):\n",
    "    a = input()\n",
    "    num = np.random.randint(0,37)\n",
    "    print(\"Выпало число: {}\".format(num))"
   ]
  },
  {
   "cell_type": "raw",
   "metadata": {},
   "source": [
    "2. \n",
    "Напишите код, проверяющий любую из теорем сложения или умножения вероятности на примере рулетки или подбрасывания монетки.\n",
    "Сгенерируйте десять выборок случайных чисел х0, …, х9.\n",
    "и постройте гистограмму распределения случайной суммы х0+х1+ …+ х9."
   ]
  },
  {
   "cell_type": "raw",
   "metadata": {},
   "source": [
    "P(A+B) = P(A) + P(B)"
   ]
  },
  {
   "cell_type": "code",
   "execution_count": 35,
   "metadata": {},
   "outputs": [
    {
     "name": "stdout",
     "output_type": "stream",
     "text": [
      "Вероятность выпадения 0: 0.02798\n",
      "Вероятность выпадения 1: 0.02854\n",
      "Вероятность выпадения или 0 или 1: 0.05652\n",
      "Теоретическая вероятность выпадения 0 или 1 в рулетке: 0.05405405405405406\n"
     ]
    }
   ],
   "source": [
    "pa = 0.0\n",
    "pb = 0.0\n",
    "n = 100000\n",
    "for i in range(0,n):\n",
    "    o_r = np.random.randint(0,36)\n",
    "    if o_r == 0: \n",
    "        pa += 1.0\n",
    "    elif o_r == 1: \n",
    "        pb += 1.0\n",
    "pa = pa / n\n",
    "pb = pb / n\n",
    "pab = pa + pb\n",
    "print(\"Вероятность выпадения 0: {}\\nВероятность выпадения 1: {}\\nВероятность выпадения или 0 или 1: {}\".format(pa,pb,pab))\n",
    "print(\"Теоретическая вероятность выпадения 0 или 1 в рулетке: {}\".format(2/37))"
   ]
  },
  {
   "cell_type": "code",
   "execution_count": 41,
   "metadata": {},
   "outputs": [
    {
     "data": {
      "text/plain": [
       "(array([2., 1., 0., 2., 0., 3., 1., 0., 0., 1.]),\n",
       " array([4.24044566, 4.47340161, 4.70635756, 4.93931351, 5.17226946,\n",
       "        5.40522541, 5.63818136, 5.87113731, 6.10409327, 6.33704922,\n",
       "        6.57000517]),\n",
       " <a list of 10 Patch objects>)"
      ]
     },
     "execution_count": 41,
     "metadata": {},
     "output_type": "execute_result"
    },
    {
     "data": {
      "image/png": "[encoded data removed]",
      "text/plain": [
       "<Figure size 432x288 with 1 Axes>"
      ]
     },
     "metadata": {
      "needs_background": "light"
     },
     "output_type": "display_data"
    }
   ],
   "source": [
    "from matplotlib import pyplot as plt\n",
    "%matplotlib inline\n",
    "\n",
    "x_sum = []\n",
    "for i in range(0, 10):\n",
    "    x = np.random.rand(10)\n",
    "    sum_ = x.sum()\n",
    "    x_sum.append(sum_)\n",
    "    \n",
    "plt.hist(x_sum)"
   ]
  },
  {
   "cell_type": "raw",
   "metadata": {},
   "source": [
    "3.\n",
    "Дополните код Монте-Карло последовательности независимых испытаний расчетом соответствующих вероятностей (через биномиальное распределение) \n",
    "и сравните результаты.\n",
    "Повторите расчеты биномиальных коэффициентов и вероятностей k успехов в последовательности из n независимых испытаний, взяв другие значения n и k.\n"
   ]
  },
  {
   "cell_type": "code",
   "execution_count": 44,
   "metadata": {},
   "outputs": [
    {
     "name": "stdout",
     "output_type": "stream",
     "text": [
      "Количество успехов: 374\n",
      "Количество испытаний: 1000\n",
      "Вероятность успеха полученная: 0.374\n",
      "Вероятность успеха теоретическая: 0.375\n"
     ]
    }
   ],
   "source": [
    "n = 1000\n",
    "k = 0\n",
    "a = np.random.randint(0,2,n)\n",
    "b = np.random.randint(0,2,n)\n",
    "c = np.random.randint(0,2,n)\n",
    "d = np.random.randint(0,2,n)\n",
    "x = a + b + c + d\n",
    "for i in range(0,n):\n",
    "    if x[i] == 2:\n",
    "        k = k + 1\n",
    "p = 4 * 3 / (2 * 16) \n",
    "print(\"Количество успехов: {}\\nКоличество испытаний: {}\\nВероятность успеха полученная: {}\\nВероятность успеха теоретическая: {}\".format(k, n, k/n,p))"
   ]
  },
  {
   "cell_type": "code",
   "execution_count": 81,
   "metadata": {},
   "outputs": [],
   "source": [
    "def c_n_k(n, k, p , q):\n",
    "    c_n_k = 1.0\n",
    "    for i in range(1, n + 1):\n",
    "        if (i < k + 1):\n",
    "            c_n_k = c_n_k * p\n",
    "        else:\n",
    "            c_n_k = (c_n_k * i / (n + 1 - i)) * q\n",
    "    return c_n_k\n",
    "        "
   ]
  },
  {
   "cell_type": "code",
   "execution_count": 86,
   "metadata": {},
   "outputs": [
    {
     "name": "stdout",
     "output_type": "stream",
     "text": [
      "Количество успехов: 61820\n",
      "Количество испытаний: 1000000\n",
      "Вероятность успеха полученная: 0.06182\n",
      "Вероятность успеха теоретическая: 0.0625\n"
     ]
    }
   ],
   "source": [
    "n = 1000000\n",
    "k = 0\n",
    "a = np.random.randint(0,2,n)\n",
    "b = np.random.randint(0,2,n)\n",
    "c = np.random.randint(0,2,n)\n",
    "d = np.random.randint(0,2,n)\n",
    "x = a + b + c + d\n",
    "for i in range(0,n):\n",
    "    if x[i] == 4:\n",
    "        k = k + 1\n",
    "p = c_n_k(4,4,0.5,0.5)\n",
    "print(\"Количество успехов: {}\\nКоличество испытаний: {}\\nВероятность успеха полученная: {}\\nВероятность успеха теоретическая: {}\".format(k, n, k/n,p))"
   ]
  },
  {
   "cell_type": "raw",
   "metadata": {},
   "source": [
    "4. Из урока по комбинаторике повторите расчеты, сгенерировав возможные варианты перестановок для других значений n и k"
   ]
  },
  {
   "cell_type": "code",
   "execution_count": 87,
   "metadata": {},
   "outputs": [],
   "source": [
    "import itertools"
   ]
  },
  {
   "cell_type": "code",
   "execution_count": 115,
   "metadata": {},
   "outputs": [],
   "source": [
    "def a_n_k(n, k):\n",
    "    a_n_k = 1\n",
    "    for i in range(n - k + 1, n + 1):\n",
    "        a_n_k = a_n_k * i\n",
    "    return a_n_k"
   ]
  },
  {
   "cell_type": "code",
   "execution_count": 122,
   "metadata": {},
   "outputs": [
    {
     "name": "stdout",
     "output_type": "stream",
     "text": [
      "0\n",
      "1\n",
      "2\n",
      "3\n",
      "Количество размещений: 4\n"
     ]
    }
   ],
   "source": [
    "for p in itertools.permutations(\"0123\",1):\n",
    "    print(''.join(str(x) for x in p))\n",
    "print(\"Количество размещений: {}\".format(a_n_k(4,1)))"
   ]
  },
  {
   "cell_type": "code",
   "execution_count": 126,
   "metadata": {},
   "outputs": [
    {
     "name": "stdout",
     "output_type": "stream",
     "text": [
      "0\n",
      "1\n",
      "2\n",
      "3\n",
      "Количество сочетаний: 4.0\n"
     ]
    }
   ],
   "source": [
    "for p in itertools.combinations(\"0123\",1):\n",
    "    print(''.join(str(x) for x in p))\n",
    "print(\"Количество сочетаний: {}\".format(c_n_k(4,1,1,1)))"
   ]
  },
  {
   "cell_type": "raw",
   "metadata": {},
   "source": [
    "5. Дополните код расчетом коэффициента корреляции x и y по формуле\n",
    "\n"
   ]
  },
  {
   "cell_type": "code",
   "execution_count": 145,
   "metadata": {},
   "outputs": [
    {
     "name": "stdout",
     "output_type": "stream",
     "text": [
      "[[1.         0.64041484]\n",
      " [0.64041484 1.        ]]\n",
      "Коэффициент корреляции двух векторов по формуле: 0.6404148433643749\n"
     ]
    },
    {
     "data": {
      "image/png": "[encoded data removed]",
      "text/plain": [
       "<Figure size 432x288 with 1 Axes>"
      ]
     },
     "metadata": {
      "needs_background": "light"
     },
     "output_type": "display_data"
    }
   ],
   "source": [
    "n = 100\n",
    "r = 0.5\n",
    "x = np.random.rand(n)\n",
    "y = r * x + (1-r)*np.random.rand(n)\n",
    "\n",
    "plt.plot(x,y, 'o')\n",
    "plt.grid(True)\n",
    "\n",
    "c = np.corrcoef(x,y)\n",
    "print(c)\n",
    "\n",
    "r, x_, y_, xy_ = 0.0, 0.0, 0.0, 0.0\n",
    "x_m = x.mean()\n",
    "y_m = y.mean()\n",
    "for i in range(0, n):\n",
    "    x_ = x_ + (x[i] - x_m) * (x[i] - x_m)\n",
    "    y_ = y_ + (y[i] - y_m) * (y[i] - y_m)\n",
    "    xy_ = xy_ + (x[i] - x_m) * (y[i] - y_m)\n",
    "r = xy_/(np.sqrt(x_)*np.sqrt(y_))\n",
    "print(\"Коэффициент корреляции двух векторов по формуле:\",r)\n"
   ]
  },
  {
   "cell_type": "code",
   "execution_count": null,
   "metadata": {},
   "outputs": [],
   "source": []
  }
 ],
 "metadata": {
  "kernelspec": {
   "display_name": "Python 3",
   "language": "python",
   "name": "python3"
  },
  "language_info": {
   "codemirror_mode": {
    "name": "ipython",
    "version": 3
   },
   "file_extension": ".py",
   "mimetype": "text/x-python",
   "name": "python",
   "nbconvert_exporter": "python",
   "pygments_lexer": "ipython3",
   "version": "3.7.4"
  }
 },
 "nbformat": 4,
 "nbformat_minor": 2
}
